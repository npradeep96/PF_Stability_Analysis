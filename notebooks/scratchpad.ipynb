{
 "cells": [
  {
   "cell_type": "code",
   "execution_count": 58,
   "outputs": [],
   "source": [
    "import ast\n",
    "\n",
    "import matplotlib.pyplot as plt\n",
    "import numpy as np"
   ],
   "metadata": {
    "collapsed": false,
    "pycharm": {
     "name": "#%%\n"
    }
   }
  },
  {
   "cell_type": "code",
   "execution_count": 78,
   "outputs": [
    {
     "data": {
      "image/png": "[encoded data removed]",
      "text/plain": "<Figure size 360x288 with 2 Axes>"
     },
     "metadata": {
      "needs_background": "light"
     },
     "output_type": "display_data"
    }
   ],
   "source": [
    "import fipy as fp\n",
    "import scipy.special as spl\n",
    "m = fp.Grid2D(nx=50, ny=50, dx=0.1, dy=0.1)\n",
    "a = 100*fp.CellVariable(mesh=m, value=(m.x**2+m.y**2).value<9)\n",
    "\n",
    "viewer = fp.viewers.matplotlibViewer.matplotlib2DViewer.Matplotlib2DViewer(vars=a,\n",
    "                # datamin=1.1, datamax=4.0,\n",
    "                title=\"Matplotlib2DViewer test\")"
   ],
   "metadata": {
    "collapsed": false,
    "pycharm": {
     "name": "#%%\n"
    }
   }
  },
  {
   "cell_type": "code",
   "execution_count": 81,
   "outputs": [
    {
     "data": {
      "image/png": "[encoded data removed]",
      "text/plain": "<Figure size 432x288 with 1 Axes>"
     },
     "metadata": {
      "needs_background": "light"
     },
     "output_type": "display_data"
    }
   ],
   "source": [
    "kx = np.linspace(-np.pi/3, np.pi/3, 50)\n",
    "k_vec_x, k_vec_y = np.meshgrid(kx, kx)\n",
    "\n",
    "def ft_given_k(k_v, conc_variable):\n",
    "    return np.sum((conc_variable.value*spl.jn(0, 2*np.pi*(k_v[0]*conc_variable.mesh.x+k_v[1]*conc_variable.mesh.y).value)*conc_variable.mesh.cellVolumes))\n",
    "\n",
    "ft = np.zeros([50,50])\n",
    "\n",
    "for i in range(len(kx)):\n",
    "    for j in range(len(kx)):\n",
    "        ft[i,j] = ft_given_k([k_vec_x[i,j], k_vec_y[i,j]], a)\n",
    "\n",
    "plt.contourf(k_vec_x, k_vec_y, ft)\n",
    "plt.show()"
   ],
   "metadata": {
    "collapsed": false,
    "pycharm": {
     "name": "#%%\n"
    }
   }
  },
  {
   "cell_type": "code",
   "execution_count": 45,
   "outputs": [
    {
     "name": "stdout",
     "output_type": "stream",
     "text": [
      "0.0\n"
     ]
    }
   ],
   "source": [
    "print(ft[2,3])"
   ],
   "metadata": {
    "collapsed": false,
    "pycharm": {
     "name": "#%%\n"
    }
   }
  },
  {
   "cell_type": "code",
   "execution_count": 51,
   "outputs": [
    {
     "data": {
      "text/plain": "[array([[-62.83185307, -50.26548246, -37.69911184, -25.13274123,\n         -12.56637061,   0.        ,  12.56637061,  25.13274123,\n          37.69911184,  50.26548246,  62.83185307],\n        [-62.83185307, -50.26548246, -37.69911184, -25.13274123,\n         -12.56637061,   0.        ,  12.56637061,  25.13274123,\n          37.69911184,  50.26548246,  62.83185307],\n        [-62.83185307, -50.26548246, -37.69911184, -25.13274123,\n         -12.56637061,   0.        ,  12.56637061,  25.13274123,\n          37.69911184,  50.26548246,  62.83185307],\n        [-62.83185307, -50.26548246, -37.69911184, -25.13274123,\n         -12.56637061,   0.        ,  12.56637061,  25.13274123,\n          37.69911184,  50.26548246,  62.83185307],\n        [-62.83185307, -50.26548246, -37.69911184, -25.13274123,\n         -12.56637061,   0.        ,  12.56637061,  25.13274123,\n          37.69911184,  50.26548246,  62.83185307],\n        [-62.83185307, -50.26548246, -37.69911184, -25.13274123,\n         -12.56637061,   0.        ,  12.56637061,  25.13274123,\n          37.69911184,  50.26548246,  62.83185307],\n        [-62.83185307, -50.26548246, -37.69911184, -25.13274123,\n         -12.56637061,   0.        ,  12.56637061,  25.13274123,\n          37.69911184,  50.26548246,  62.83185307],\n        [-62.83185307, -50.26548246, -37.69911184, -25.13274123,\n         -12.56637061,   0.        ,  12.56637061,  25.13274123,\n          37.69911184,  50.26548246,  62.83185307],\n        [-62.83185307, -50.26548246, -37.69911184, -25.13274123,\n         -12.56637061,   0.        ,  12.56637061,  25.13274123,\n          37.69911184,  50.26548246,  62.83185307],\n        [-62.83185307, -50.26548246, -37.69911184, -25.13274123,\n         -12.56637061,   0.        ,  12.56637061,  25.13274123,\n          37.69911184,  50.26548246,  62.83185307],\n        [-62.83185307, -50.26548246, -37.69911184, -25.13274123,\n         -12.56637061,   0.        ,  12.56637061,  25.13274123,\n          37.69911184,  50.26548246,  62.83185307]]),\n array([[-62.83185307, -62.83185307, -62.83185307, -62.83185307,\n         -62.83185307, -62.83185307, -62.83185307, -62.83185307,\n         -62.83185307, -62.83185307, -62.83185307],\n        [-50.26548246, -50.26548246, -50.26548246, -50.26548246,\n         -50.26548246, -50.26548246, -50.26548246, -50.26548246,\n         -50.26548246, -50.26548246, -50.26548246],\n        [-37.69911184, -37.69911184, -37.69911184, -37.69911184,\n         -37.69911184, -37.69911184, -37.69911184, -37.69911184,\n         -37.69911184, -37.69911184, -37.69911184],\n        [-25.13274123, -25.13274123, -25.13274123, -25.13274123,\n         -25.13274123, -25.13274123, -25.13274123, -25.13274123,\n         -25.13274123, -25.13274123, -25.13274123],\n        [-12.56637061, -12.56637061, -12.56637061, -12.56637061,\n         -12.56637061, -12.56637061, -12.56637061, -12.56637061,\n         -12.56637061, -12.56637061, -12.56637061],\n        [  0.        ,   0.        ,   0.        ,   0.        ,\n           0.        ,   0.        ,   0.        ,   0.        ,\n           0.        ,   0.        ,   0.        ],\n        [ 12.56637061,  12.56637061,  12.56637061,  12.56637061,\n          12.56637061,  12.56637061,  12.56637061,  12.56637061,\n          12.56637061,  12.56637061,  12.56637061],\n        [ 25.13274123,  25.13274123,  25.13274123,  25.13274123,\n          25.13274123,  25.13274123,  25.13274123,  25.13274123,\n          25.13274123,  25.13274123,  25.13274123],\n        [ 37.69911184,  37.69911184,  37.69911184,  37.69911184,\n          37.69911184,  37.69911184,  37.69911184,  37.69911184,\n          37.69911184,  37.69911184,  37.69911184],\n        [ 50.26548246,  50.26548246,  50.26548246,  50.26548246,\n          50.26548246,  50.26548246,  50.26548246,  50.26548246,\n          50.26548246,  50.26548246,  50.26548246],\n        [ 62.83185307,  62.83185307,  62.83185307,  62.83185307,\n          62.83185307,  62.83185307,  62.83185307,  62.83185307,\n          62.83185307,  62.83185307,  62.83185307]])]"
     },
     "execution_count": 51,
     "metadata": {},
     "output_type": "execute_result"
    }
   ],
   "source": [
    "k_vector"
   ],
   "metadata": {
    "collapsed": false,
    "pycharm": {
     "name": "#%%\n"
    }
   }
  },
  {
   "cell_type": "code",
   "execution_count": 41,
   "outputs": [
    {
     "name": "stdout",
     "output_type": "stream",
     "text": [
      "0\n",
      "1\n",
      "2\n",
      "3\n",
      "4\n",
      "5\n",
      "6\n",
      "7\n",
      "8\n",
      "9\n"
     ]
    }
   ],
   "source": [
    "for i in range(len(kx)):\n",
    "    print i"
   ],
   "metadata": {
    "collapsed": false,
    "pycharm": {
     "name": "#%%\n"
    }
   }
  },
  {
   "cell_type": "code",
   "execution_count": 29,
   "outputs": [
    {
     "data": {
      "text/plain": "array([0.00249999, 0.01249902, 0.03248284, 0.06237801, 0.1019625 ,\n       0.15073357, 0.20773812, 0.27137631, 0.33919857, 0.40772812,\n       0.01249902, 0.02249431, 0.04246163, 0.07230963, 0.11178959,\n       0.16036391, 0.21703769, 0.28016455, 0.34724744, 0.41476659,\n       0.03248284, 0.04246163, 0.06237801, 0.09210484, 0.1313403 ,\n       0.17947763, 0.23543928, 0.29748755, 0.36303285, 0.42847294,\n       0.06237801, 0.07230963, 0.09210484, 0.12158316, 0.16036391,\n       0.20773812, 0.26250703, 0.32280024, 0.38589591, 0.44807706,\n       0.1019625 , 0.11178959, 0.1313403 , 0.16036391, 0.1983764 ,\n       0.24453585, 0.29748755, 0.35519297, 0.41476659, 0.4723557 ,\n       0.15073357, 0.16036391, 0.17947763, 0.20773812, 0.24453585,\n       0.28886916, 0.33919857, 0.39329071, 0.44807706, 0.49956394,\n       0.20773812, 0.21703769, 0.23543928, 0.26250703, 0.29748755,\n       0.33919857, 0.38589591, 0.43513693, 0.48366709, 0.52736699,\n       0.27137631, 0.28016455, 0.29748755, 0.32280024, 0.35519297,\n       0.39329071, 0.43513693, 0.47808174, 0.51870249, 0.55279466,\n       0.33919857, 0.34724744, 0.36303285, 0.38589591, 0.41476659,\n       0.44807706, 0.48366709, 0.51870249, 0.54963607, 0.57224835,\n       0.40772812, 0.41476659, 0.42847294, 0.44807706, 0.4723557 ,\n       0.49956394, 0.52736699, 0.55279466, 0.57224835, 0.58159642])"
     },
     "execution_count": 29,
     "metadata": {},
     "output_type": "execute_result"
    }
   ],
   "source": [
    "a.value"
   ],
   "metadata": {
    "collapsed": false,
    "pycharm": {
     "name": "#%%\n"
    }
   }
  },
  {
   "cell_type": "code",
   "execution_count": 33,
   "outputs": [
    {
     "data": {
      "text/plain": "0.2490501071333181"
     },
     "execution_count": 33,
     "metadata": {},
     "output_type": "execute_result"
    }
   ],
   "source": [
    "k_vector = [0.1, 0.1]\n",
    "\n",
    "np.sum((a*spl.jn(0, 2*np.pi*(k_vector[0]*m.x+k_vector[1]*m.y).value)*m.cellVolumes).value)"
   ],
   "metadata": {
    "collapsed": false,
    "pycharm": {
     "name": "#%%\n"
    }
   }
  },
  {
   "cell_type": "code",
   "execution_count": null,
   "outputs": [],
   "source": [],
   "metadata": {
    "collapsed": false,
    "pycharm": {
     "name": "#%%\n"
    }
   }
  }
 ],
 "metadata": {
  "kernelspec": {
   "display_name": "Python 2",
   "language": "python",
   "name": "python2"
  },
  "language_info": {
   "codemirror_mode": {
    "name": "ipython",
    "version": 2
   },
   "file_extension": ".py",
   "mimetype": "text/x-python",
   "name": "python",
   "nbconvert_exporter": "python",
   "pygments_lexer": "ipython2",
   "version": "2.7.6"
  }
 },
 "nbformat": 4,
 "nbformat_minor": 0
}