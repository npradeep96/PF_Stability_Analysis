{
 "cells": [
  {
   "cell_type": "markdown",
   "metadata": {},
   "source": [
    "## Fipy explorations"
   ]
  },
  {
   "cell_type": "code",
   "execution_count": 1,
   "metadata": {},
   "outputs": [],
   "source": [
    "import fipy as fp\n",
    "import numpy as np"
   ]
  },
  {
   "cell_type": "code",
   "execution_count": 2,
   "metadata": {},
   "outputs": [],
   "source": [
    "nx = 10\n",
    "dx = 0.1\n",
    "\n",
    "mesh = fp.Grid2D(nx=nx, ny=nx, dx=dx, dy=dx)\n",
    "conc = fp.CellVariable(mesh=mesh, value=0.1)"
   ]
  },
  {
   "cell_type": "code",
   "execution_count": 4,
   "metadata": {},
   "outputs": [
    {
     "data": {
      "text/plain": [
       "array([0.1, 0.1, 0.1, 0.1, 0.1, 0.1, 0.1, 0.1, 0.1, 0.1, 0.1, 0.1, 0.1,\n",
       "       0.1, 0.1, 0.1, 0.1, 0.1, 0.1, 0.1, 0.1, 0.1, 0.1, 0.1, 0.1, 0.1,\n",
       "       0.1, 0.1, 0.1, 0.1, 0.1, 0.1, 0.1, 0.1, 0.1, 0.1, 0.1, 0.1, 0.1,\n",
       "       0.1, 0.1, 0.1, 0.1, 0.1, 0.1, 0.1, 0.1, 0.1, 0.1, 0.1, 0.1, 0.1,\n",
       "       0.1, 0.1, 0.1, 0.1, 0.1, 0.1, 0.1, 0.1, 0.1, 0.1, 0.1, 0.1, 0.1,\n",
       "       0.1, 0.1, 0.1, 0.1, 0.1, 0.1, 0.1, 0.1, 0.1, 0.1, 0.1, 0.1, 0.1,\n",
       "       0.1, 0.1, 0.1, 0.1, 0.1, 0.1, 0.1, 0.1, 0.1, 0.1, 0.1, 0.1, 0.1,\n",
       "       0.1, 0.1, 0.1, 0.1, 0.1, 0.1, 0.1, 0.1, 0.1])"
      ]
     },
     "execution_count": 4,
     "metadata": {},
     "output_type": "execute_result"
    }
   ],
   "source": [
    "conc.value"
   ]
  },
  {
   "cell_type": "code",
   "execution_count": 5,
   "metadata": {},
   "outputs": [
    {
     "data": {
      "text/plain": [
       "UniformGrid2D(dx=0.1, nx=10, dy=0.1, ny=10)"
      ]
     },
     "execution_count": 5,
     "metadata": {},
     "output_type": "execute_result"
    }
   ],
   "source": [
    "conc.mesh"
   ]
  },
  {
   "cell_type": "code",
   "execution_count": 6,
   "metadata": {},
   "outputs": [],
   "source": [
    "conc2 = fp.CellVariable(mesh=conc.mesh, value=conc.value)"
   ]
  },
  {
   "cell_type": "code",
   "execution_count": 7,
   "metadata": {},
   "outputs": [
    {
     "data": {
      "text/plain": [
       "UniformGrid2D(dx=0.1, nx=10, dy=0.1, ny=10)"
      ]
     },
     "execution_count": 7,
     "metadata": {},
     "output_type": "execute_result"
    }
   ],
   "source": [
    "conc2.mesh"
   ]
  },
  {
   "cell_type": "code",
   "execution_count": 36,
   "metadata": {},
   "outputs": [
    {
     "data": {
      "text/plain": [
       "(CellVariable(value=array([0.1, 0.1, 0.1, 0.1, 0.1, 0.1, 0.1, 0.1, 0.1, 0.1, 0.1, 0.1, 0.1,\n",
       "       0.1, 0.1, 0.1, 0.1, 0.1, 0.1, 0.1, 0.1, 0.1, 0.1, 0.1, 0.1, 0.1,\n",
       "       0.1, 0.1, 0.1, 0.1, 0.1, 0.1, 0.1, 0.1, 0.1, 0.1, 0.1, 0.1, 0.1,\n",
       "       0.1, 0.1, 0.1, 0.1, 0.1, 0.1, 0.1, 0.1, 0.1, 0.1, 0.1, 0.1, 0.1,\n",
       "       0.1, 0.1, 0.1, 0.1, 0.1, 0.1, 0.1, 0.1, 0.1, 0.1, 0.1, 0.1, 0.1,\n",
       "       0.1, 0.1, 0.1, 0.1, 0.1, 0.1, 0.1, 0.1, 0.1, 0.1, 0.1, 0.1, 0.1,\n",
       "       0.1, 0.1, 0.1, 0.1, 0.1, 0.1, 0.1, 0.1, 0.1, 0.1, 0.1, 0.1, 0.1,\n",
       "       0.1, 0.1, 0.1, 0.1, 0.1, 0.1, 0.1, 0.1, 0.1]), mesh=UniformGrid2D(dx=0.1, nx=10, dy=0.1, ny=10)) + (CellVariable(value=array([0.1, 0.1, 0.1, 0.1, 0.1, 0.1, 0.1, 0.1, 0.1, 0.1, 0.1, 0.1, 0.1,\n",
       "       0.1, 0.1, 0.1, 0.1, 0.1, 0.1, 0.1, 0.1, 0.1, 0.1, 0.1, 0.1, 0.1,\n",
       "       0.1, 0.1, 0.1, 0.1, 0.1, 0.1, 0.1, 0.1, 0.1, 0.1, 0.1, 0.1, 0.1,\n",
       "       0.1, 0.1, 0.1, 0.1, 0.1, 0.1, 0.1, 0.1, 0.1, 0.1, 0.1, 0.1, 0.1,\n",
       "       0.1, 0.1, 0.1, 0.1, 0.1, 0.1, 0.1, 0.1, 0.1, 0.1, 0.1, 0.1, 0.1,\n",
       "       0.1, 0.1, 0.1, 0.1, 0.1, 0.1, 0.1, 0.1, 0.1, 0.1, 0.1, 0.1, 0.1,\n",
       "       0.1, 0.1, 0.1, 0.1, 0.1, 0.1, 0.1, 0.1, 0.1, 0.1, 0.1, 0.1, 0.1,\n",
       "       0.1, 0.1, 0.1, 0.1, 0.1, 0.1, 0.1, 0.1, 0.1]), mesh=UniformGrid2D(dx=0.1, nx=10, dy=0.1, ny=10)) * CellVariable(value=array([0.66697681, 0.72252735, 0.76720595, 0.79851622, 0.81464732,\n",
       "       0.81464732, 0.79851622, 0.76720595, 0.72252735, 0.66697681,\n",
       "       0.72252735, 0.78270454, 0.83110428, 0.86502229, 0.8824969 ,\n",
       "       0.8824969 , 0.86502229, 0.83110428, 0.78270454, 0.72252735,\n",
       "       0.76720595, 0.83110428, 0.8824969 , 0.91851228, 0.93706746,\n",
       "       0.93706746, 0.91851228, 0.8824969 , 0.83110428, 0.76720595,\n",
       "       0.79851622, 0.86502229, 0.91851228, 0.95599748, 0.97530991,\n",
       "       0.97530991, 0.95599748, 0.91851228, 0.86502229, 0.79851622,\n",
       "       0.81464732, 0.8824969 , 0.93706746, 0.97530991, 0.99501248,\n",
       "       0.99501248, 0.97530991, 0.93706746, 0.8824969 , 0.81464732,\n",
       "       0.81464732, 0.8824969 , 0.93706746, 0.97530991, 0.99501248,\n",
       "       0.99501248, 0.97530991, 0.93706746, 0.8824969 , 0.81464732,\n",
       "       0.79851622, 0.86502229, 0.91851228, 0.95599748, 0.97530991,\n",
       "       0.97530991, 0.95599748, 0.91851228, 0.86502229, 0.79851622,\n",
       "       0.76720595, 0.83110428, 0.8824969 , 0.91851228, 0.93706746,\n",
       "       0.93706746, 0.91851228, 0.8824969 , 0.83110428, 0.76720595,\n",
       "       0.72252735, 0.78270454, 0.83110428, 0.86502229, 0.8824969 ,\n",
       "       0.8824969 , 0.86502229, 0.83110428, 0.78270454, 0.72252735,\n",
       "       0.66697681, 0.72252735, 0.76720595, 0.79851622, 0.81464732,\n",
       "       0.81464732, 0.79851622, 0.76720595, 0.72252735, 0.66697681]), mesh=UniformGrid2D(dx=0.1, nx=10, dy=0.1, ny=10))))"
      ]
     },
     "execution_count": 36,
     "metadata": {},
     "output_type": "execute_result"
    }
   ],
   "source": [
    "well_center = [0.5, 0.5]\n",
    "conc + np.exp(- np.sum([(conc.mesh.cellCenters[i] - well_center[i])**2 for i in range(2)], 0))*conc"
   ]
  },
  {
   "cell_type": "code",
   "execution_count": null,
   "metadata": {},
   "outputs": [],
   "source": [
    "conc.faceGrad.divergence"
   ]
  },
  {
   "cell_type": "markdown",
   "metadata": {},
   "source": [
    "## ast reading dictionaries"
   ]
  },
  {
   "cell_type": "code",
   "execution_count": 15,
   "metadata": {},
   "outputs": [],
   "source": [
    "import ast\n",
    "\n",
    "input_parameters = {}\n",
    "\n",
    "with open('untitled.txt', 'r') as f:\n",
    "    for line in f:\n",
    "        # Remove the \\n character from the string\n",
    "        line = line.strip()\n",
    "        # If the line is not an empty string, process the line\n",
    "        if line:\n",
    "            # If the line is not a comment i.e. does not start with '#', then process the line\n",
    "            if line.find('#') == -1:\n",
    "                # handle lines with more than 1 comma\n",
    "                var_name, var_value = line.split(',')[0], \",\".join(line.split(',')[1:])\n",
    "                # Remove any white spaces in the variable value\n",
    "                var_value = var_value.strip()\n",
    "                try:\n",
    "                    input_parameters[var_name] = float(var_value)\n",
    "                except ValueError:\n",
    "                    # This occurs when python cannot convert a string into a float.\n",
    "                    # Evaluate the python expression as a list\n",
    "                    input_parameters[var_name] = ast.literal_eval(var_value)"
   ]
  },
  {
   "cell_type": "code",
   "execution_count": 16,
   "metadata": {},
   "outputs": [
    {
     "name": "stdout",
     "output_type": "stream",
     "text": [
      "{'p2': 20, 'p1': 10, 't': 100}\n",
      "('p2', 20)\n",
      "('p1', 10)\n",
      "('t', 100)\n"
     ]
    }
   ],
   "source": [
    "print(input_parameters['time_profile'][0])\n",
    "for key, val in input_parameters['time_profile'][0].items():\n",
    "    print(key, val)"
   ]
  },
  {
   "cell_type": "code",
   "execution_count": 12,
   "metadata": {},
   "outputs": [
    {
     "name": "stdout",
     "output_type": "stream",
     "text": [
      "hi\n"
     ]
    }
   ],
   "source": [
    "a = []\n",
    "if len(a) == 0:\n",
    "    print('hi')"
   ]
  },
  {
   "cell_type": "code",
   "execution_count": 5,
   "metadata": {},
   "outputs": [],
   "source": [
    "class rando:\n",
    "    \n",
    "    def __init__(self):\n",
    "        self.a = None\n",
    "    @property\n",
    "    def a(self):\n",
    "        return a\n",
    "    @a.setter\n",
    "    def a(self, **kwargs):\n",
    "        b = kwargs.get('b', None)\n",
    "        if b == 1:\n",
    "            a = 10\n",
    "        elif b == 2:\n",
    "            a = 20"
   ]
  },
  {
   "cell_type": "code",
   "execution_count": 6,
   "metadata": {},
   "outputs": [],
   "source": [
    "r = rando()"
   ]
  },
  {
   "cell_type": "code",
   "execution_count": 8,
   "metadata": {},
   "outputs": [],
   "source": [
    "r.a = 10"
   ]
  },
  {
   "cell_type": "code",
   "execution_count": 9,
   "metadata": {},
   "outputs": [
    {
     "name": "stdout",
     "output_type": "stream",
     "text": [
      "hi\n"
     ]
    }
   ],
   "source": [
    "a = 1.0\n",
    "if a == 1:\n",
    "    print('hi')"
   ]
  },
  {
   "cell_type": "code",
   "execution_count": 13,
   "metadata": {},
   "outputs": [
    {
     "name": "stdout",
     "output_type": "stream",
     "text": [
      "0.45000000000000007\n"
     ]
    }
   ],
   "source": [
    "import fipy as fp\n",
    "from fipy.meshes import Grid2D\n",
    "from fipy.variables.cellVariable import CellVariable\n",
    "import numpy as np\n",
    "mesh = Grid2D(nx = 3, ny = 1, dx = .5, dy = .1)\n",
    "var = CellVariable(value = (1, 2, 6), mesh = mesh)\n",
    "print(var.cellVolumeAverage * np.sum(var.mesh.cellVolumes))"
   ]
  },
  {
   "cell_type": "code",
   "execution_count": null,
   "metadata": {},
   "outputs": [],
   "source": []
  }
 ],
 "metadata": {
  "kernelspec": {
   "display_name": "Python 2",
   "language": "python",
   "name": "python2"
  },
  "language_info": {
   "codemirror_mode": {
    "name": "ipython",
    "version": 2
   },
   "file_extension": ".py",
   "mimetype": "text/x-python",
   "name": "python",
   "nbconvert_exporter": "python",
   "pygments_lexer": "ipython2",
   "version": "2.7.15"
  }
 },
 "nbformat": 4,
 "nbformat_minor": 1
}
